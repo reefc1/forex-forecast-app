{
 "cells": [
  {
   "cell_type": "markdown",
   "id": "cc6eb7d6-1316-42eb-809b-989c0a936070",
   "metadata": {},
   "source": [
    "## EDA"
   ]
  },
  {
   "cell_type": "code",
   "execution_count": null,
   "id": "40cd0b7a-45b1-4bf1-8a1f-f1f875ac8fdf",
   "metadata": {},
   "outputs": [],
   "source": [
    "!pip3 install imblearn\n",
    "# Import necessary libraries\n",
    "import pandas as pd\n",
    "import numpy as np\n",
    "import matplotlib.pyplot as plt\n",
    "import seaborn as sns\n",
    "from sklearn.model_selection import train_test_split, cross_val_score, GridSearchCV, RandomizedSearchCV\n",
    "from sklearn.preprocessing import StandardScaler, LabelEncoder\n",
    "from sklearn.linear_model import LogisticRegression\n",
    "from sklearn.ensemble import RandomForestClassifier, GradientBoostingClassifier\n",
    "from sklearn.metrics import (\n",
    "    accuracy_score, precision_score, recall_score, f1_score, \n",
    "    confusion_matrix, roc_auc_score, roc_curve, classification_report\n",
    ")\n",
    "from imblearn.over_sampling import SMOTE\n",
    "from sklearn.model_selection import KFold\n",
    "%matplotlib inline"
   ]
  },
  {
   "cell_type": "code",
   "execution_count": null,
   "id": "220635c6-e161-4d92-add8-3ffc810938cf",
   "metadata": {},
   "outputs": [],
   "source": [
    "#load data set\n",
    "df = pd.read_csv(\"/Users/macbook/Desktop/internship/data/alzheimers.csv\")"
   ]
  },
  {
   "cell_type": "code",
   "execution_count": null,
   "id": "04962cfa-a7d2-4009-80d9-cb5476486079",
   "metadata": {},
   "outputs": [],
   "source": [
    "#display dataset info\n",
    "print(\"Dataset Shape:\",df.shape)\n",
    "print(\"\\nFirst 5 Rows:\")\n",
    "df.head()"
   ]
  },
  {
   "cell_type": "code",
   "execution_count": null,
   "id": "6d27e09c-4848-4ac9-911c-303f4af37a0d",
   "metadata": {},
   "outputs": [],
   "source": [
    "# Handle missing values\n",
    "# Option 1: Drop rows with missing values\n",
    "df = df.dropna()"
   ]
  },
  {
   "cell_type": "code",
   "execution_count": null,
   "id": "11e09ef2-bbdf-497d-9958-c08dff423f97",
   "metadata": {},
   "outputs": [],
   "source": [
    "#2.missing values\n",
    "print(\"\\nMissing Values per column:\")\n",
    "print(df.isnull().sum())"
   ]
  },
  {
   "cell_type": "code",
   "execution_count": null,
   "id": "ccf917eb-25cb-4cec-b8ea-d8d9beb58e2e",
   "metadata": {},
   "outputs": [],
   "source": [
    "#3.Summary statistics\n",
    "print(\"\\nSummary statistics (numeric columns):\")\n",
    "print(df.describe().T)"
   ]
  },
  {
   "cell_type": "markdown",
   "id": "169cf9c5-2166-45a0-882f-16d142a3a716",
   "metadata": {},
   "source": [
    "## Preprocessing"
   ]
  },
  {
   "cell_type": "code",
   "execution_count": null,
   "id": "b24099b3-d997-4a1a-ae3a-0876e6e5eac2",
   "metadata": {},
   "outputs": [],
   "source": [
    "# Split features and target\n",
    "X = df.drop('Diagnosis', axis=1)\n",
    "y = df['Diagnosis']\n",
    "\n",
    "# Train-test split \n",
    "X_train, X_test, y_train, y_test = train_test_split(X, y, test_size=0.2, random_state=42)"
   ]
  },
  {
   "cell_type": "code",
   "execution_count": null,
   "id": "518f1ced-16f2-4f80-ac34-1eb5f53847c1",
   "metadata": {},
   "outputs": [],
   "source": [
    "#Feature Scaling\n",
    "scaler = StandardScaler()\n",
    "X_train_scaled = scaler.fit_transform(X_train)\n",
    "X_test_scaled = scaler.transform(X_test)"
   ]
  },
  {
   "cell_type": "code",
   "execution_count": null,
   "id": "cb92554d-0fc5-496c-b8a2-7c08ca191ae8",
   "metadata": {},
   "outputs": [],
   "source": [
    "#Balancing the Dataset (SMOTE: Oversampling using imblearn library)\n",
    "smote = SMOTE(random_state=42)\n",
    "X_train_balanced, y_train_balanced = smote.fit_resample(X_train_scaled, y_train)"
   ]
  },
  {
   "cell_type": "markdown",
   "id": "db6d6786-547f-4061-8a41-a50e21f868a6",
   "metadata": {},
   "source": []
  },
  {
   "cell_type": "markdown",
   "id": "160923d4-40bd-47b7-9be1-4d03d4e5fd32",
   "metadata": {},
   "source": [
    "## Ensemble algorithms"
   ]
  },
  {
   "cell_type": "code",
   "execution_count": null,
   "id": "8906b01a-4dff-427d-8c0b-4ba4478c5d76",
   "metadata": {},
   "outputs": [],
   "source": [
    "#Logistic Regression \n",
    "lr_balanced = LogisticRegression(random_state=42)\n",
    "lr_balanced.fit(X_train_balanced, y_train_balanced)\n",
    "y_pred_lr_balanced = lr_balanced.predict(X_test_scaled)\n",
    "\n",
    "print(\"\\nLogistic Regression Performance (With Balancing):\")\n",
    "print(classification_report(y_test, y_pred_lr_balanced))\n",
    "print(\"Confusion Matrix:\")\n",
    "print(confusion_matrix(y_test, y_pred_lr_balanced))"
   ]
  },
  {
   "cell_type": "code",
   "execution_count": null,
   "id": "959bbb01-111b-4aba-9529-3ba25affab45",
   "metadata": {
    "scrolled": true
   },
   "outputs": [],
   "source": [
    "#logistic regression\n",
    "lr_balanced = LogisticRegression(random_state=42)\n",
    "lr_balanced.fit(X_train_balanced, y_train_balanced)\n",
    "y_pred_lr_balanced = lr_balanced.predict(X_test_scaled)\n",
    "\n",
    "print(\"\\nLogisitic Regression Performance (With Balancing):\")\n",
    "print(classification_report(y_test, y_pred_lr_balanced))\n",
    "print(\"Confusion Matrix:\")\n",
    "print(confusion_matrix(y_test, y_pred_lr_balanced))"
   ]
  },
  {
   "cell_type": "code",
   "execution_count": null,
   "id": "59f2ea8d-e1f2-4af2-9717-017b5c361e8b",
   "metadata": {
    "scrolled": true
   },
   "outputs": [],
   "source": [
    "# Random forest\n",
    "rf_balanced = RandomForestClassifier(random_state=42)\n",
    "rf_balanced.fit(X_train_balanced, y_train_balanced)\n",
    "y_pred_rf_balanced = rf_balanced.predict(X_test_scaled)\n",
    "\n",
    "print(\"\\nRandom forest performance (with balancing):\")\n",
    "print(classification_report(y_test, y_pred_rf_balanced))\n",
    "print(\"\\nConfusion Matrix\")\n",
    "print(confusion_matrix(y_test, y_pred_rf_balanced))"
   ]
  },
  {
   "cell_type": "code",
   "execution_count": null,
   "id": "e029b218-9212-4e1c-bc17-be5b72f7e2d7",
   "metadata": {},
   "outputs": [],
   "source": [
    "#Hyperparameter Tuning (Random Forest) \n",
    "param_grid_rf = {\n",
    "    'n_estimators': [50, 100, 200],\n",
    "    'max_depth': [None, 10, 20],\n",
    "    'min_samples_split': [2, 5, 10]\n",
    "}\n",
    "\n",
    "\n",
    "grid_search_rf = GridSearchCV(RandomForestClassifier(random_state=42), param_grid_rf, cv=5)\n",
    "grid_search_rf.fit(X_train_balanced, y_train_balanced)\n",
    "\n",
    "print(\"\\nBest Parameters for Random Forest:\")\n",
    "print(grid_search_rf.best_params_)\n",
    "\n",
    "# Evaluate tuned Random Forest\n",
    "best_rf = grid_search_rf.best_estimator_\n",
    "y_pred_best_rf = best_rf.predict(X_test_scaled)\n",
    "\n",
    "print(\"\\nTuned Random Forest Performance:\")\n",
    "print(classification_report(y_test, y_pred_best_rf))\n",
    "print(\"Confusion Matrix:\")\n",
    "print(confusion_matrix(y_test, y_pred_best_rf))"
   ]
  },
  {
   "cell_type": "code",
   "execution_count": null,
   "id": "9dbddcda-c265-427d-ad6e-d07e0203ea5d",
   "metadata": {},
   "outputs": [],
   "source": [
    "#Gradient Boosting Trees (GBT)\n",
    "gbt = GradientBoostingClassifier(random_state=42)\n",
    "gbt.fit(X_train_balanced, y_train_balanced)\n",
    "y_pred_gbt = gbt.predict(X_test_scaled)\n",
    "\n",
    "print(\"\\nGradient Boosting Trees Performance:\")\n",
    "print(classification_report(y_test, y_pred_gbt))\n",
    "print(\"Confusion Matrix:\")\n",
    "print(confusion_matrix(y_test, y_pred_gbt))"
   ]
  },
  {
   "cell_type": "markdown",
   "id": "3873e204-172c-4061-aa4a-5c1b863a7cd8",
   "metadata": {},
   "source": [
    "## Evaluation"
   ]
  },
  {
   "cell_type": "code",
   "execution_count": null,
   "id": "9961e87c-ae03-4aef-bab8-1da82b18250b",
   "metadata": {},
   "outputs": [],
   "source": [
    "#Cross-Validation (Random Forest)\n",
    "cv_scores_rf = cross_val_score(best_rf, X_train_balanced, y_train_balanced, cv=5, scoring=\"accuracy\")\n",
    "print(\"\\nRandom Forest Cross-Validation Scores:\", cv_scores_rf)\n",
    "print(\"Mean CV Accuracy:\", cv_scores_rf.mean())"
   ]
  },
  {
   "cell_type": "code",
   "execution_count": null,
   "id": "11e2aebb-07f7-4c20-96b5-b935a0328216",
   "metadata": {},
   "outputs": [],
   "source": []
  }
 ],
 "metadata": {
  "kernelspec": {
   "display_name": "Python 3 (ipykernel)",
   "language": "python",
   "name": "python3"
  },
  "language_info": {
   "codemirror_mode": {
    "name": "ipython",
    "version": 3
   },
   "file_extension": ".py",
   "mimetype": "text/x-python",
   "name": "python",
   "nbconvert_exporter": "python",
   "pygments_lexer": "ipython3",
   "version": "3.13.7"
  }
 },
 "nbformat": 4,
 "nbformat_minor": 5
}
