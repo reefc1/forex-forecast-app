{
 "cells": [
  {
   "cell_type": "markdown",
   "id": "cc6eb7d6-1316-42eb-809b-989c0a936070",
   "metadata": {},
   "source": [
    "## EDA"
   ]
  },
  {
   "cell_type": "code",
   "execution_count": 1,
   "id": "40cd0b7a-45b1-4bf1-8a1f-f1f875ac8fdf",
   "metadata": {},
   "outputs": [
    {
     "name": "stdout",
     "output_type": "stream",
     "text": [
      "Collecting imblearn\n",
      "  Downloading imblearn-0.0-py2.py3-none-any.whl (1.9 kB)\n",
      "Collecting imbalanced-learn\n",
      "  Downloading imbalanced_learn-0.14.0-py3-none-any.whl (239 kB)\n",
      "\u001b[2K     \u001b[90m━━━━━━━━━━━━━━━━━━━━━━━━━━━━━━━━━━━━━━━\u001b[0m \u001b[32m240.0/240.0 kB\u001b[0m \u001b[31m3.4 MB/s\u001b[0m eta \u001b[36m0:00:00\u001b[0ma \u001b[36m0:00:01\u001b[0m\n",
      "\u001b[?25hRequirement already satisfied: numpy<3,>=1.25.2 in /Users/macbook/.pyenv/versions/3.10.13/lib/python3.10/site-packages (from imbalanced-learn->imblearn) (2.2.6)\n",
      "Requirement already satisfied: scikit-learn<2,>=1.4.2 in /Users/macbook/.pyenv/versions/3.10.13/lib/python3.10/site-packages (from imbalanced-learn->imblearn) (1.7.2)\n",
      "Requirement already satisfied: scipy<2,>=1.11.4 in /Users/macbook/.pyenv/versions/3.10.13/lib/python3.10/site-packages (from imbalanced-learn->imblearn) (1.15.3)\n",
      "Requirement already satisfied: joblib<2,>=1.2.0 in /Users/macbook/.pyenv/versions/3.10.13/lib/python3.10/site-packages (from imbalanced-learn->imblearn) (1.5.2)\n",
      "Requirement already satisfied: threadpoolctl<4,>=2.0.0 in /Users/macbook/.pyenv/versions/3.10.13/lib/python3.10/site-packages (from imbalanced-learn->imblearn) (3.6.0)\n",
      "Installing collected packages: imbalanced-learn, imblearn\n",
      "Successfully installed imbalanced-learn-0.14.0 imblearn-0.0\n",
      "\n",
      "\u001b[1m[\u001b[0m\u001b[34;49mnotice\u001b[0m\u001b[1;39;49m]\u001b[0m\u001b[39;49m A new release of pip is available: \u001b[0m\u001b[31;49m23.0.1\u001b[0m\u001b[39;49m -> \u001b[0m\u001b[32;49m25.2\u001b[0m\n",
      "\u001b[1m[\u001b[0m\u001b[34;49mnotice\u001b[0m\u001b[1;39;49m]\u001b[0m\u001b[39;49m To update, run: \u001b[0m\u001b[32;49mpip install --upgrade pip\u001b[0m\n"
     ]
    }
   ],
   "source": [
    "!pip3 install imblearn\n",
    "# Import necessary libraries\n",
    "import pandas as pd\n",
    "import numpy as np\n",
    "import matplotlib.pyplot as plt\n",
    "import seaborn as sns\n",
    "from sklearn.model_selection import train_test_split, cross_val_score, GridSearchCV, RandomizedSearchCV\n",
    "from sklearn.preprocessing import StandardScaler, LabelEncoder\n",
    "from sklearn.linear_model import LogisticRegression\n",
    "from sklearn.ensemble import RandomForestClassifier, GradientBoostingClassifier\n",
    "from sklearn.metrics import (\n",
    "    accuracy_score, precision_score, recall_score, f1_score, \n",
    "    confusion_matrix, roc_auc_score, roc_curve, classification_report\n",
    ")\n",
    "from imblearn.over_sampling import SMOTE\n",
    "from sklearn.model_selection import KFold\n",
    "%matplotlib inline"
   ]
  },
  {
   "cell_type": "code",
   "execution_count": 2,
   "id": "220635c6-e161-4d92-add8-3ffc810938cf",
   "metadata": {},
   "outputs": [],
   "source": [
    "#load data set\n",
    "df = pd.read_csv(\"/Users/macbook/Desktop/internship/data/alzheimers.csv\")"
   ]
  },
  {
   "cell_type": "code",
   "execution_count": 3,
   "id": "04962cfa-a7d2-4009-80d9-cb5476486079",
   "metadata": {},
   "outputs": [
    {
     "name": "stdout",
     "output_type": "stream",
     "text": [
      "Dataset Shape: (2149, 34)\n",
      "\n",
      "First 5 Rows:\n"
     ]
    },
    {
     "data": {
      "text/html": [
       "<div>\n",
       "<style scoped>\n",
       "    .dataframe tbody tr th:only-of-type {\n",
       "        vertical-align: middle;\n",
       "    }\n",
       "\n",
       "    .dataframe tbody tr th {\n",
       "        vertical-align: top;\n",
       "    }\n",
       "\n",
       "    .dataframe thead th {\n",
       "        text-align: right;\n",
       "    }\n",
       "</style>\n",
       "<table border=\"1\" class=\"dataframe\">\n",
       "  <thead>\n",
       "    <tr style=\"text-align: right;\">\n",
       "      <th></th>\n",
       "      <th>PatientID</th>\n",
       "      <th>Age</th>\n",
       "      <th>Gender</th>\n",
       "      <th>Ethnicity</th>\n",
       "      <th>EducationLevel</th>\n",
       "      <th>BMI</th>\n",
       "      <th>Smoking</th>\n",
       "      <th>AlcoholConsumption</th>\n",
       "      <th>PhysicalActivity</th>\n",
       "      <th>DietQuality</th>\n",
       "      <th>...</th>\n",
       "      <th>FunctionalAssessment</th>\n",
       "      <th>MemoryComplaints</th>\n",
       "      <th>BehavioralProblems</th>\n",
       "      <th>ADL</th>\n",
       "      <th>Confusion</th>\n",
       "      <th>Disorientation</th>\n",
       "      <th>PersonalityChanges</th>\n",
       "      <th>DifficultyCompletingTasks</th>\n",
       "      <th>Forgetfulness</th>\n",
       "      <th>Diagnosis</th>\n",
       "    </tr>\n",
       "  </thead>\n",
       "  <tbody>\n",
       "    <tr>\n",
       "      <th>0</th>\n",
       "      <td>4751</td>\n",
       "      <td>73</td>\n",
       "      <td>0</td>\n",
       "      <td>0</td>\n",
       "      <td>2</td>\n",
       "      <td>22.927749</td>\n",
       "      <td>0</td>\n",
       "      <td>13.297218</td>\n",
       "      <td>6.327112</td>\n",
       "      <td>1.347214</td>\n",
       "      <td>...</td>\n",
       "      <td>6.518877</td>\n",
       "      <td>0</td>\n",
       "      <td>0</td>\n",
       "      <td>1.725883</td>\n",
       "      <td>0</td>\n",
       "      <td>0</td>\n",
       "      <td>0</td>\n",
       "      <td>1</td>\n",
       "      <td>0</td>\n",
       "      <td>0</td>\n",
       "    </tr>\n",
       "    <tr>\n",
       "      <th>1</th>\n",
       "      <td>4752</td>\n",
       "      <td>89</td>\n",
       "      <td>0</td>\n",
       "      <td>0</td>\n",
       "      <td>0</td>\n",
       "      <td>26.827681</td>\n",
       "      <td>0</td>\n",
       "      <td>4.542524</td>\n",
       "      <td>7.619885</td>\n",
       "      <td>0.518767</td>\n",
       "      <td>...</td>\n",
       "      <td>7.118696</td>\n",
       "      <td>0</td>\n",
       "      <td>0</td>\n",
       "      <td>2.592424</td>\n",
       "      <td>0</td>\n",
       "      <td>0</td>\n",
       "      <td>0</td>\n",
       "      <td>0</td>\n",
       "      <td>1</td>\n",
       "      <td>0</td>\n",
       "    </tr>\n",
       "    <tr>\n",
       "      <th>2</th>\n",
       "      <td>4753</td>\n",
       "      <td>73</td>\n",
       "      <td>0</td>\n",
       "      <td>3</td>\n",
       "      <td>1</td>\n",
       "      <td>17.795882</td>\n",
       "      <td>0</td>\n",
       "      <td>19.555085</td>\n",
       "      <td>7.844988</td>\n",
       "      <td>1.826335</td>\n",
       "      <td>...</td>\n",
       "      <td>5.895077</td>\n",
       "      <td>0</td>\n",
       "      <td>0</td>\n",
       "      <td>7.119548</td>\n",
       "      <td>0</td>\n",
       "      <td>1</td>\n",
       "      <td>0</td>\n",
       "      <td>1</td>\n",
       "      <td>0</td>\n",
       "      <td>0</td>\n",
       "    </tr>\n",
       "    <tr>\n",
       "      <th>3</th>\n",
       "      <td>4754</td>\n",
       "      <td>74</td>\n",
       "      <td>1</td>\n",
       "      <td>0</td>\n",
       "      <td>1</td>\n",
       "      <td>33.800817</td>\n",
       "      <td>1</td>\n",
       "      <td>12.209266</td>\n",
       "      <td>8.428001</td>\n",
       "      <td>7.435604</td>\n",
       "      <td>...</td>\n",
       "      <td>8.965106</td>\n",
       "      <td>0</td>\n",
       "      <td>1</td>\n",
       "      <td>6.481226</td>\n",
       "      <td>0</td>\n",
       "      <td>0</td>\n",
       "      <td>0</td>\n",
       "      <td>0</td>\n",
       "      <td>0</td>\n",
       "      <td>0</td>\n",
       "    </tr>\n",
       "    <tr>\n",
       "      <th>4</th>\n",
       "      <td>4755</td>\n",
       "      <td>89</td>\n",
       "      <td>0</td>\n",
       "      <td>0</td>\n",
       "      <td>0</td>\n",
       "      <td>20.716974</td>\n",
       "      <td>0</td>\n",
       "      <td>18.454356</td>\n",
       "      <td>6.310461</td>\n",
       "      <td>0.795498</td>\n",
       "      <td>...</td>\n",
       "      <td>6.045039</td>\n",
       "      <td>0</td>\n",
       "      <td>0</td>\n",
       "      <td>0.014691</td>\n",
       "      <td>0</td>\n",
       "      <td>0</td>\n",
       "      <td>1</td>\n",
       "      <td>1</td>\n",
       "      <td>0</td>\n",
       "      <td>0</td>\n",
       "    </tr>\n",
       "  </tbody>\n",
       "</table>\n",
       "<p>5 rows × 34 columns</p>\n",
       "</div>"
      ],
      "text/plain": [
       "   PatientID  Age  Gender  Ethnicity  EducationLevel        BMI  Smoking  \\\n",
       "0       4751   73       0          0               2  22.927749        0   \n",
       "1       4752   89       0          0               0  26.827681        0   \n",
       "2       4753   73       0          3               1  17.795882        0   \n",
       "3       4754   74       1          0               1  33.800817        1   \n",
       "4       4755   89       0          0               0  20.716974        0   \n",
       "\n",
       "   AlcoholConsumption  PhysicalActivity  DietQuality  ...  \\\n",
       "0           13.297218          6.327112     1.347214  ...   \n",
       "1            4.542524          7.619885     0.518767  ...   \n",
       "2           19.555085          7.844988     1.826335  ...   \n",
       "3           12.209266          8.428001     7.435604  ...   \n",
       "4           18.454356          6.310461     0.795498  ...   \n",
       "\n",
       "   FunctionalAssessment  MemoryComplaints  BehavioralProblems       ADL  \\\n",
       "0              6.518877                 0                   0  1.725883   \n",
       "1              7.118696                 0                   0  2.592424   \n",
       "2              5.895077                 0                   0  7.119548   \n",
       "3              8.965106                 0                   1  6.481226   \n",
       "4              6.045039                 0                   0  0.014691   \n",
       "\n",
       "   Confusion  Disorientation  PersonalityChanges  DifficultyCompletingTasks  \\\n",
       "0          0               0                   0                          1   \n",
       "1          0               0                   0                          0   \n",
       "2          0               1                   0                          1   \n",
       "3          0               0                   0                          0   \n",
       "4          0               0                   1                          1   \n",
       "\n",
       "   Forgetfulness  Diagnosis  \n",
       "0              0          0  \n",
       "1              1          0  \n",
       "2              0          0  \n",
       "3              0          0  \n",
       "4              0          0  \n",
       "\n",
       "[5 rows x 34 columns]"
      ]
     },
     "execution_count": 3,
     "metadata": {},
     "output_type": "execute_result"
    }
   ],
   "source": [
    "#display dataset info\n",
    "print(\"Dataset Shape:\",df.shape)\n",
    "print(\"\\nFirst 5 Rows:\")\n",
    "df.head()"
   ]
  },
  {
   "cell_type": "code",
   "execution_count": 4,
   "id": "6d27e09c-4848-4ac9-911c-303f4af37a0d",
   "metadata": {},
   "outputs": [],
   "source": [
    "# Handle missing values\n",
    "# Option 1: Drop rows with missing values\n",
    "df = df.dropna()"
   ]
  },
  {
   "cell_type": "code",
   "execution_count": 5,
   "id": "11e09ef2-bbdf-497d-9958-c08dff423f97",
   "metadata": {},
   "outputs": [
    {
     "name": "stdout",
     "output_type": "stream",
     "text": [
      "\n",
      "Missing Values per column:\n",
      "PatientID                    0\n",
      "Age                          0\n",
      "Gender                       0\n",
      "Ethnicity                    0\n",
      "EducationLevel               0\n",
      "BMI                          0\n",
      "Smoking                      0\n",
      "AlcoholConsumption           0\n",
      "PhysicalActivity             0\n",
      "DietQuality                  0\n",
      "SleepQuality                 0\n",
      "FamilyHistoryAlzheimers      0\n",
      "CardiovascularDisease        0\n",
      "Diabetes                     0\n",
      "Depression                   0\n",
      "HeadInjury                   0\n",
      "Hypertension                 0\n",
      "SystolicBP                   0\n",
      "DiastolicBP                  0\n",
      "CholesterolTotal             0\n",
      "CholesterolLDL               0\n",
      "CholesterolHDL               0\n",
      "CholesterolTriglycerides     0\n",
      "MMSE                         0\n",
      "FunctionalAssessment         0\n",
      "MemoryComplaints             0\n",
      "BehavioralProblems           0\n",
      "ADL                          0\n",
      "Confusion                    0\n",
      "Disorientation               0\n",
      "PersonalityChanges           0\n",
      "DifficultyCompletingTasks    0\n",
      "Forgetfulness                0\n",
      "Diagnosis                    0\n",
      "dtype: int64\n"
     ]
    }
   ],
   "source": [
    "#2.missing values\n",
    "print(\"\\nMissing Values per column:\")\n",
    "print(df.isnull().sum())"
   ]
  },
  {
   "cell_type": "code",
   "execution_count": 6,
   "id": "ccf917eb-25cb-4cec-b8ea-d8d9beb58e2e",
   "metadata": {},
   "outputs": [
    {
     "name": "stdout",
     "output_type": "stream",
     "text": [
      "\n",
      "Summary statistics (numeric columns):\n",
      "                            count         mean         std          min  \\\n",
      "PatientID                  2149.0  5825.000000  620.507185  4751.000000   \n",
      "Age                        2149.0    74.908795    8.990221    60.000000   \n",
      "Gender                     2149.0     0.506282    0.500077     0.000000   \n",
      "Ethnicity                  2149.0     0.697534    0.996128     0.000000   \n",
      "EducationLevel             2149.0     1.286645    0.904527     0.000000   \n",
      "BMI                        2149.0    27.655697    7.217438    15.008851   \n",
      "Smoking                    2149.0     0.288506    0.453173     0.000000   \n",
      "AlcoholConsumption         2149.0    10.039442    5.757910     0.002003   \n",
      "PhysicalActivity           2149.0     4.920202    2.857191     0.003616   \n",
      "DietQuality                2149.0     4.993138    2.909055     0.009385   \n",
      "SleepQuality               2149.0     7.051081    1.763573     4.002629   \n",
      "FamilyHistoryAlzheimers    2149.0     0.252210    0.434382     0.000000   \n",
      "CardiovascularDisease      2149.0     0.144253    0.351428     0.000000   \n",
      "Diabetes                   2149.0     0.150768    0.357906     0.000000   \n",
      "Depression                 2149.0     0.200558    0.400511     0.000000   \n",
      "HeadInjury                 2149.0     0.092601    0.289940     0.000000   \n",
      "Hypertension               2149.0     0.148906    0.356079     0.000000   \n",
      "SystolicBP                 2149.0   134.264774   25.949352    90.000000   \n",
      "DiastolicBP                2149.0    89.847836   17.592496    60.000000   \n",
      "CholesterolTotal           2149.0   225.197519   42.542233   150.093316   \n",
      "CholesterolLDL             2149.0   124.335944   43.366584    50.230707   \n",
      "CholesterolHDL             2149.0    59.463533   23.139174    20.003434   \n",
      "CholesterolTriglycerides   2149.0   228.281496  101.986721    50.407194   \n",
      "MMSE                       2149.0    14.755132    8.613151     0.005312   \n",
      "FunctionalAssessment       2149.0     5.080055    2.892743     0.000460   \n",
      "MemoryComplaints           2149.0     0.208004    0.405974     0.000000   \n",
      "BehavioralProblems         2149.0     0.156817    0.363713     0.000000   \n",
      "ADL                        2149.0     4.982958    2.949775     0.001288   \n",
      "Confusion                  2149.0     0.205212    0.403950     0.000000   \n",
      "Disorientation             2149.0     0.158213    0.365026     0.000000   \n",
      "PersonalityChanges         2149.0     0.150768    0.357906     0.000000   \n",
      "DifficultyCompletingTasks  2149.0     0.158678    0.365461     0.000000   \n",
      "Forgetfulness              2149.0     0.301536    0.459032     0.000000   \n",
      "Diagnosis                  2149.0     0.353653    0.478214     0.000000   \n",
      "\n",
      "                                   25%          50%          75%          max  \n",
      "PatientID                  5288.000000  5825.000000  6362.000000  6899.000000  \n",
      "Age                          67.000000    75.000000    83.000000    90.000000  \n",
      "Gender                        0.000000     1.000000     1.000000     1.000000  \n",
      "Ethnicity                     0.000000     0.000000     1.000000     3.000000  \n",
      "EducationLevel                1.000000     1.000000     2.000000     3.000000  \n",
      "BMI                          21.611408    27.823924    33.869778    39.992767  \n",
      "Smoking                       0.000000     0.000000     1.000000     1.000000  \n",
      "AlcoholConsumption            5.139810     9.934412    15.157931    19.989293  \n",
      "PhysicalActivity              2.570626     4.766424     7.427899     9.987429  \n",
      "DietQuality                   2.458455     5.076087     7.558625     9.998346  \n",
      "SleepQuality                  5.482997     7.115646     8.562521     9.999840  \n",
      "FamilyHistoryAlzheimers       0.000000     0.000000     1.000000     1.000000  \n",
      "CardiovascularDisease         0.000000     0.000000     0.000000     1.000000  \n",
      "Diabetes                      0.000000     0.000000     0.000000     1.000000  \n",
      "Depression                    0.000000     0.000000     0.000000     1.000000  \n",
      "HeadInjury                    0.000000     0.000000     0.000000     1.000000  \n",
      "Hypertension                  0.000000     0.000000     0.000000     1.000000  \n",
      "SystolicBP                  112.000000   134.000000   157.000000   179.000000  \n",
      "DiastolicBP                  74.000000    91.000000   105.000000   119.000000  \n",
      "CholesterolTotal            190.252963   225.086430   262.031657   299.993352  \n",
      "CholesterolLDL               87.195798   123.342593   161.733733   199.965665  \n",
      "CholesterolHDL               39.095698    59.768237    78.939050    99.980324  \n",
      "CholesterolTriglycerides    137.583222   230.301983   314.839046   399.941862  \n",
      "MMSE                          7.167602    14.441660    22.161028    29.991381  \n",
      "FunctionalAssessment          2.566281     5.094439     7.546981     9.996467  \n",
      "MemoryComplaints              0.000000     0.000000     0.000000     1.000000  \n",
      "BehavioralProblems            0.000000     0.000000     0.000000     1.000000  \n",
      "ADL                           2.342836     5.038973     7.581490     9.999747  \n",
      "Confusion                     0.000000     0.000000     0.000000     1.000000  \n",
      "Disorientation                0.000000     0.000000     0.000000     1.000000  \n",
      "PersonalityChanges            0.000000     0.000000     0.000000     1.000000  \n",
      "DifficultyCompletingTasks     0.000000     0.000000     0.000000     1.000000  \n",
      "Forgetfulness                 0.000000     0.000000     1.000000     1.000000  \n",
      "Diagnosis                     0.000000     0.000000     1.000000     1.000000  \n"
     ]
    }
   ],
   "source": [
    "#3.Summary statistics\n",
    "print(\"\\nSummary statistics (numeric columns):\")\n",
    "print(df.describe().T)"
   ]
  },
  {
   "cell_type": "markdown",
   "id": "169cf9c5-2166-45a0-882f-16d142a3a716",
   "metadata": {},
   "source": [
    "## Preprocessing"
   ]
  },
  {
   "cell_type": "code",
   "execution_count": 7,
   "id": "b24099b3-d997-4a1a-ae3a-0876e6e5eac2",
   "metadata": {},
   "outputs": [],
   "source": [
    "# Split features and target\n",
    "X = df.drop('Diagnosis', axis=1)\n",
    "y = df['Diagnosis']\n",
    "\n",
    "# Train-test split \n",
    "X_train, X_test, y_train, y_test = train_test_split(X, y, test_size=0.2, random_state=42)"
   ]
  },
  {
   "cell_type": "code",
   "execution_count": 8,
   "id": "518f1ced-16f2-4f80-ac34-1eb5f53847c1",
   "metadata": {},
   "outputs": [],
   "source": [
    "#Feature Scaling\n",
    "scaler = StandardScaler()\n",
    "X_train_scaled = scaler.fit_transform(X_train)\n",
    "X_test_scaled = scaler.transform(X_test)"
   ]
  },
  {
   "cell_type": "code",
   "execution_count": 9,
   "id": "cb92554d-0fc5-496c-b8a2-7c08ca191ae8",
   "metadata": {},
   "outputs": [],
   "source": [
    "#Balancing the Dataset (SMOTE: Oversampling using imblearn library)\n",
    "smote = SMOTE(random_state=42)\n",
    "X_train_balanced, y_train_balanced = smote.fit_resample(X_train_scaled, y_train)"
   ]
  },
  {
   "cell_type": "markdown",
   "id": "db6d6786-547f-4061-8a41-a50e21f868a6",
   "metadata": {},
   "source": []
  },
  {
   "cell_type": "markdown",
   "id": "160923d4-40bd-47b7-9be1-4d03d4e5fd32",
   "metadata": {},
   "source": [
    "## Ensemble algorithms"
   ]
  },
  {
   "cell_type": "code",
   "execution_count": 10,
   "id": "8906b01a-4dff-427d-8c0b-4ba4478c5d76",
   "metadata": {},
   "outputs": [
    {
     "name": "stdout",
     "output_type": "stream",
     "text": [
      "\n",
      "Logistic Regression Performance (With Balancing):\n",
      "              precision    recall  f1-score   support\n",
      "\n",
      "           0       0.89      0.84      0.87       277\n",
      "           1       0.74      0.80      0.77       153\n",
      "\n",
      "    accuracy                           0.83       430\n",
      "   macro avg       0.81      0.82      0.82       430\n",
      "weighted avg       0.83      0.83      0.83       430\n",
      "\n",
      "Confusion Matrix:\n",
      "[[234  43]\n",
      " [ 30 123]]\n"
     ]
    }
   ],
   "source": [
    "#Logistic Regression \n",
    "lr_balanced = LogisticRegression(random_state=42)\n",
    "lr_balanced.fit(X_train_balanced, y_train_balanced)\n",
    "y_pred_lr_balanced = lr_balanced.predict(X_test_scaled)\n",
    "\n",
    "print(\"\\nLogistic Regression Performance (With Balancing):\")\n",
    "print(classification_report(y_test, y_pred_lr_balanced))\n",
    "print(\"Confusion Matrix:\")\n",
    "print(confusion_matrix(y_test, y_pred_lr_balanced))"
   ]
  },
  {
   "cell_type": "code",
   "execution_count": 11,
   "id": "959bbb01-111b-4aba-9529-3ba25affab45",
   "metadata": {
    "scrolled": true
   },
   "outputs": [
    {
     "name": "stdout",
     "output_type": "stream",
     "text": [
      "\n",
      "Logisitic Regression Performance (With Balancing):\n",
      "              precision    recall  f1-score   support\n",
      "\n",
      "           0       0.89      0.84      0.87       277\n",
      "           1       0.74      0.80      0.77       153\n",
      "\n",
      "    accuracy                           0.83       430\n",
      "   macro avg       0.81      0.82      0.82       430\n",
      "weighted avg       0.83      0.83      0.83       430\n",
      "\n",
      "Confusion Matrix:\n",
      "[[234  43]\n",
      " [ 30 123]]\n"
     ]
    }
   ],
   "source": [
    "#logistic regression\n",
    "lr_balanced = LogisticRegression(random_state=42)\n",
    "lr_balanced.fit(X_train_balanced, y_train_balanced)\n",
    "y_pred_lr_balanced = lr_balanced.predict(X_test_scaled)\n",
    "\n",
    "print(\"\\nLogisitic Regression Performance (With Balancing):\")\n",
    "print(classification_report(y_test, y_pred_lr_balanced))\n",
    "print(\"Confusion Matrix:\")\n",
    "print(confusion_matrix(y_test, y_pred_lr_balanced))"
   ]
  },
  {
   "cell_type": "code",
   "execution_count": 12,
   "id": "59f2ea8d-e1f2-4af2-9717-017b5c361e8b",
   "metadata": {
    "scrolled": true
   },
   "outputs": [
    {
     "name": "stdout",
     "output_type": "stream",
     "text": [
      "\n",
      "Random forest performance (with balancing):\n",
      "              precision    recall  f1-score   support\n",
      "\n",
      "           0       0.92      0.97      0.95       277\n",
      "           1       0.95      0.86      0.90       153\n",
      "\n",
      "    accuracy                           0.93       430\n",
      "   macro avg       0.94      0.92      0.92       430\n",
      "weighted avg       0.93      0.93      0.93       430\n",
      "\n",
      "\n",
      "Confusion Matrix\n",
      "[[270   7]\n",
      " [ 22 131]]\n"
     ]
    }
   ],
   "source": [
    "# Random forest\n",
    "rf_balanced = RandomForestClassifier(random_state=42)\n",
    "rf_balanced.fit(X_train_balanced, y_train_balanced)\n",
    "y_pred_rf_balanced = rf_balanced.predict(X_test_scaled)\n",
    "\n",
    "print(\"\\nRandom forest performance (with balancing):\")\n",
    "print(classification_report(y_test, y_pred_rf_balanced))\n",
    "print(\"\\nConfusion Matrix\")\n",
    "print(confusion_matrix(y_test, y_pred_rf_balanced))"
   ]
  },
  {
   "cell_type": "code",
   "execution_count": 13,
   "id": "e029b218-9212-4e1c-bc17-be5b72f7e2d7",
   "metadata": {},
   "outputs": [
    {
     "name": "stdout",
     "output_type": "stream",
     "text": [
      "\n",
      "Best Parameters for Random Forest:\n",
      "{'max_depth': 10, 'min_samples_split': 2, 'n_estimators': 200}\n",
      "\n",
      "Tuned Random Forest Performance:\n",
      "              precision    recall  f1-score   support\n",
      "\n",
      "           0       0.95      0.98      0.96       277\n",
      "           1       0.97      0.90      0.93       153\n",
      "\n",
      "    accuracy                           0.95       430\n",
      "   macro avg       0.96      0.94      0.95       430\n",
      "weighted avg       0.95      0.95      0.95       430\n",
      "\n",
      "Confusion Matrix:\n",
      "[[272   5]\n",
      " [ 15 138]]\n"
     ]
    }
   ],
   "source": [
    "#Hyperparameter Tuning (Random Forest) \n",
    "param_grid_rf = {\n",
    "    'n_estimators': [50, 100, 200],\n",
    "    'max_depth': [None, 10, 20],\n",
    "    'min_samples_split': [2, 5, 10]\n",
    "}\n",
    "\n",
    "\n",
    "grid_search_rf = GridSearchCV(RandomForestClassifier(random_state=42), param_grid_rf, cv=5)\n",
    "grid_search_rf.fit(X_train_balanced, y_train_balanced)\n",
    "\n",
    "print(\"\\nBest Parameters for Random Forest:\")\n",
    "print(grid_search_rf.best_params_)\n",
    "\n",
    "# Evaluate tuned Random Forest\n",
    "best_rf = grid_search_rf.best_estimator_\n",
    "y_pred_best_rf = best_rf.predict(X_test_scaled)\n",
    "\n",
    "print(\"\\nTuned Random Forest Performance:\")\n",
    "print(classification_report(y_test, y_pred_best_rf))\n",
    "print(\"Confusion Matrix:\")\n",
    "print(confusion_matrix(y_test, y_pred_best_rf))"
   ]
  },
  {
   "cell_type": "code",
   "execution_count": 14,
   "id": "9dbddcda-c265-427d-ad6e-d07e0203ea5d",
   "metadata": {},
   "outputs": [
    {
     "name": "stdout",
     "output_type": "stream",
     "text": [
      "\n",
      "Gradient Boosting Trees Performance:\n",
      "              precision    recall  f1-score   support\n",
      "\n",
      "           0       0.97      0.97      0.97       277\n",
      "           1       0.94      0.94      0.94       153\n",
      "\n",
      "    accuracy                           0.96       430\n",
      "   macro avg       0.95      0.95      0.95       430\n",
      "weighted avg       0.96      0.96      0.96       430\n",
      "\n",
      "Confusion Matrix:\n",
      "[[268   9]\n",
      " [  9 144]]\n"
     ]
    }
   ],
   "source": [
    "#Gradient Boosting Trees (GBT)\n",
    "gbt = GradientBoostingClassifier(random_state=42)\n",
    "gbt.fit(X_train_balanced, y_train_balanced)\n",
    "y_pred_gbt = gbt.predict(X_test_scaled)\n",
    "\n",
    "print(\"\\nGradient Boosting Trees Performance:\")\n",
    "print(classification_report(y_test, y_pred_gbt))\n",
    "print(\"Confusion Matrix:\")\n",
    "print(confusion_matrix(y_test, y_pred_gbt))"
   ]
  },
  {
   "cell_type": "markdown",
   "id": "3873e204-172c-4061-aa4a-5c1b863a7cd8",
   "metadata": {},
   "source": [
    "## Evaluation"
   ]
  },
  {
   "cell_type": "code",
   "execution_count": 15,
   "id": "9961e87c-ae03-4aef-bab8-1da82b18250b",
   "metadata": {},
   "outputs": [
    {
     "name": "stdout",
     "output_type": "stream",
     "text": [
      "\n",
      "Random Forest Cross-Validation Scores: [0.94382022 0.96179775 0.9505618  0.96853933 0.96171171]\n",
      "Mean CV Accuracy: 0.9572861625670616\n"
     ]
    }
   ],
   "source": [
    "#Cross-Validation (Random Forest)\n",
    "cv_scores_rf = cross_val_score(best_rf, X_train_balanced, y_train_balanced, cv=5, scoring=\"accuracy\")\n",
    "print(\"\\nRandom Forest Cross-Validation Scores:\", cv_scores_rf)\n",
    "print(\"Mean CV Accuracy:\", cv_scores_rf.mean())"
   ]
  },
  {
   "cell_type": "code",
   "execution_count": null,
   "id": "11e2aebb-07f7-4c20-96b5-b935a0328216",
   "metadata": {},
   "outputs": [],
   "source": []
  }
 ],
 "metadata": {
  "kernelspec": {
   "display_name": "Python 3 (ipykernel)",
   "language": "python",
   "name": "python3"
  },
  "language_info": {
   "codemirror_mode": {
    "name": "ipython",
    "version": 3
   },
   "file_extension": ".py",
   "mimetype": "text/x-python",
   "name": "python",
   "nbconvert_exporter": "python",
   "pygments_lexer": "ipython3",
   "version": "3.13.7"
  }
 },
 "nbformat": 4,
 "nbformat_minor": 5
}
